{
  "cells": [
    {
      "cell_type": "markdown",
      "metadata": {
        "colab_type": "text",
        "id": "view-in-github"
      },
      "source": [
        "<a href=\"https://colab.research.google.com/github/josiahlin119/IMDB-Final-Project/blob/main/Imdb_bert.ipynb\" target=\"_parent\"><img src=\"https://colab.research.google.com/assets/colab-badge.svg\" alt=\"Open In Colab\"/></a>"
      ]
    },
    {
      "cell_type": "code",
      "execution_count": 1,
      "metadata": {},
      "outputs": [
        {
          "name": "stdout",
          "output_type": "stream",
          "text": [
            "\n",
            "Usage:   \n",
            "  pip install [options] <requirement specifier> [package-index-options] ...\n",
            "  pip install [options] -r <requirements file> [package-index-options] ...\n",
            "  pip install [options] [-e] <vcs project url> ...\n",
            "  pip install [options] [-e] <local project path> ...\n",
            "  pip install [options] <archive url/path> ...\n",
            "\n",
            "no such option: -1\n"
          ]
        }
      ],
      "source": [
        "\n",
        "\n",
        "!pip install -1 tf-model\n",
        "\n"
      ]
    },
    {
      "cell_type": "code",
      "execution_count": 2,
      "metadata": {},
      "outputs": [],
      "source": [
        "import numpy as np\n"
      ]
    },
    {
      "cell_type": "code",
      "execution_count": 3,
      "metadata": {
        "id": "ahBKciDhipS_"
      },
      "outputs": [],
      "source": [
        "#Load the libraries\n",
        "\n",
        "\n",
        "# import numpy as np\n",
        "import pandas as pd\n",
        "import seaborn as sns\n",
        "import matplotlib.pyplot as plt\n",
        "import nltk\n",
        "from sklearn.feature_extraction.text import CountVectorizer\n",
        "from sklearn.feature_extraction.text import TfidfVectorizer\n",
        "from sklearn.preprocessing import LabelBinarizer\n",
        "from nltk.corpus import stopwords\n",
        "\n",
        "from nltk.stem.porter import PorterStemmer\n",
        "from wordcloud import WordCloud,STOPWORDS\n",
        "from nltk.stem import WordNetLemmatizer\n",
        "from nltk.tokenize import word_tokenize,sent_tokenize\n",
        "from bs4 import BeautifulSoup\n",
        "\n",
        "import re,string,unicodedata\n",
        "from nltk.tokenize.toktok import ToktokTokenizer\n",
        "from nltk.stem import LancasterStemmer,WordNetLemmatizer\n",
        "from sklearn.linear_model import LogisticRegression,SGDClassifier\n",
        "from sklearn.naive_bayes import MultinomialNB\n",
        "from sklearn.svm import SVC\n",
        "from textblob import TextBlob\n",
        "from textblob import Word\n",
        "from sklearn.metrics import classification_report,confusion_matrix,accuracy_score\n",
        "#deep learning\n",
        "\n",
        "import tensorflow as tf\n",
        "from tensorflow import keras\n",
        "from keras.datasets import imdb\n",
        "from tensorflow.keras import models\n",
        "from tensorflow.keras import layers"
      ]
    },
    {
      "cell_type": "code",
      "execution_count": 4,
      "metadata": {
        "id": "ssu31oeRRLyA"
      },
      "outputs": [],
      "source": [
        "# from google.colab import drive\n",
        "# drive.mount('/content/drive')"
      ]
    },
    {
      "cell_type": "code",
      "execution_count": 5,
      "metadata": {
        "colab": {
          "base_uri": "https://localhost:8080/"
        },
        "id": "XXZMPG0BP4cb",
        "outputId": "6f1e296c-209f-4a26-9f2b-ee39b5b7c40b"
      },
      "outputs": [
        {
          "name": "stderr",
          "output_type": "stream",
          "text": [
            "[nltk_data] Downloading package stopwords to\n",
            "[nltk_data]     /Users/josiah/nltk_data...\n",
            "[nltk_data]   Package stopwords is already up-to-date!\n"
          ]
        },
        {
          "data": {
            "text/plain": [
              "True"
            ]
          },
          "execution_count": 5,
          "metadata": {},
          "output_type": "execute_result"
        }
      ],
      "source": [
        "nltk.download('stopwords')\n"
      ]
    },
    {
      "cell_type": "code",
      "execution_count": 6,
      "metadata": {
        "colab": {
          "base_uri": "https://localhost:8080/"
        },
        "id": "8brXlx3sn6wF",
        "outputId": "2ca4a014-ff5f-4e85-c3cd-d7cb360491de"
      },
      "outputs": [
        {
          "name": "stdout",
          "output_type": "stream",
          "text": [
            "(50000, 2)\n"
          ]
        },
        {
          "data": {
            "text/plain": [
              "<bound method NDFrame.head of                                                   review sentiment\n",
              "0      One of the other reviewers has mentioned that ...  positive\n",
              "1      A wonderful little production. <br /><br />The...  positive\n",
              "2      I thought this was a wonderful way to spend ti...  positive\n",
              "3      Basically there's a family where a little boy ...  negative\n",
              "4      Petter Mattei's \"Love in the Time of Money\" is...  positive\n",
              "...                                                  ...       ...\n",
              "49995  I thought this movie did a down right good job...  positive\n",
              "49996  Bad plot, bad dialogue, bad acting, idiotic di...  negative\n",
              "49997  I am a Catholic taught in parochial elementary...  negative\n",
              "49998  I'm going to have to disagree with the previou...  negative\n",
              "49999  No one expects the Star Trek movies to be high...  negative\n",
              "\n",
              "[50000 rows x 2 columns]>"
            ]
          },
          "execution_count": 6,
          "metadata": {},
          "output_type": "execute_result"
        }
      ],
      "source": [
        "imdb_data=pd.read_csv('https://raw.githubusercontent.com/josiahlin119/IMDB-Final-Project/main/ReviewData/IMDB%20Dataset.csv')\n",
        "print(imdb_data.shape)\n",
        "imdb_data.head"
      ]
    },
    {
      "cell_type": "code",
      "execution_count": 7,
      "metadata": {
        "colab": {
          "base_uri": "https://localhost:8080/",
          "height": 175
        },
        "id": "umnyWfU-p6VF",
        "outputId": "9e4e6b8a-1f7d-47d1-df2b-4b90c0752c2b"
      },
      "outputs": [
        {
          "data": {
            "text/html": [
              "<div>\n",
              "<style scoped>\n",
              "    .dataframe tbody tr th:only-of-type {\n",
              "        vertical-align: middle;\n",
              "    }\n",
              "\n",
              "    .dataframe tbody tr th {\n",
              "        vertical-align: top;\n",
              "    }\n",
              "\n",
              "    .dataframe thead th {\n",
              "        text-align: right;\n",
              "    }\n",
              "</style>\n",
              "<table border=\"1\" class=\"dataframe\">\n",
              "  <thead>\n",
              "    <tr style=\"text-align: right;\">\n",
              "      <th></th>\n",
              "      <th>review</th>\n",
              "      <th>sentiment</th>\n",
              "    </tr>\n",
              "  </thead>\n",
              "  <tbody>\n",
              "    <tr>\n",
              "      <th>count</th>\n",
              "      <td>50000</td>\n",
              "      <td>50000</td>\n",
              "    </tr>\n",
              "    <tr>\n",
              "      <th>unique</th>\n",
              "      <td>49582</td>\n",
              "      <td>2</td>\n",
              "    </tr>\n",
              "    <tr>\n",
              "      <th>top</th>\n",
              "      <td>Loved today's show!!! It was a variety and not...</td>\n",
              "      <td>positive</td>\n",
              "    </tr>\n",
              "    <tr>\n",
              "      <th>freq</th>\n",
              "      <td>5</td>\n",
              "      <td>25000</td>\n",
              "    </tr>\n",
              "  </tbody>\n",
              "</table>\n",
              "</div>"
            ],
            "text/plain": [
              "                                                   review sentiment\n",
              "count                                               50000     50000\n",
              "unique                                              49582         2\n",
              "top     Loved today's show!!! It was a variety and not...  positive\n",
              "freq                                                    5     25000"
            ]
          },
          "execution_count": 7,
          "metadata": {},
          "output_type": "execute_result"
        }
      ],
      "source": [
        "imdb_data.describe()"
      ]
    },
    {
      "cell_type": "code",
      "execution_count": 8,
      "metadata": {
        "colab": {
          "base_uri": "https://localhost:8080/"
        },
        "id": "dWSOktKlp-wZ",
        "outputId": "45c1182a-d14b-4e98-aaab-77fe8d496caa"
      },
      "outputs": [
        {
          "data": {
            "text/plain": [
              "positive    25000\n",
              "negative    25000\n",
              "Name: sentiment, dtype: int64"
            ]
          },
          "execution_count": 8,
          "metadata": {},
          "output_type": "execute_result"
        }
      ],
      "source": [
        "imdb_data['sentiment'].value_counts()"
      ]
    },
    {
      "cell_type": "code",
      "execution_count": 9,
      "metadata": {},
      "outputs": [
        {
          "data": {
            "text/html": [
              "<div>\n",
              "<style scoped>\n",
              "    .dataframe tbody tr th:only-of-type {\n",
              "        vertical-align: middle;\n",
              "    }\n",
              "\n",
              "    .dataframe tbody tr th {\n",
              "        vertical-align: top;\n",
              "    }\n",
              "\n",
              "    .dataframe thead th {\n",
              "        text-align: right;\n",
              "    }\n",
              "</style>\n",
              "<table border=\"1\" class=\"dataframe\">\n",
              "  <thead>\n",
              "    <tr style=\"text-align: right;\">\n",
              "      <th></th>\n",
              "      <th>review</th>\n",
              "      <th>sentiment</th>\n",
              "    </tr>\n",
              "  </thead>\n",
              "  <tbody>\n",
              "    <tr>\n",
              "      <th>0</th>\n",
              "      <td>One of the other reviewers has mentioned that ...</td>\n",
              "      <td>1</td>\n",
              "    </tr>\n",
              "    <tr>\n",
              "      <th>1</th>\n",
              "      <td>A wonderful little production. &lt;br /&gt;&lt;br /&gt;The...</td>\n",
              "      <td>1</td>\n",
              "    </tr>\n",
              "    <tr>\n",
              "      <th>2</th>\n",
              "      <td>I thought this was a wonderful way to spend ti...</td>\n",
              "      <td>1</td>\n",
              "    </tr>\n",
              "    <tr>\n",
              "      <th>3</th>\n",
              "      <td>Basically there's a family where a little boy ...</td>\n",
              "      <td>0</td>\n",
              "    </tr>\n",
              "    <tr>\n",
              "      <th>4</th>\n",
              "      <td>Petter Mattei's \"Love in the Time of Money\" is...</td>\n",
              "      <td>1</td>\n",
              "    </tr>\n",
              "  </tbody>\n",
              "</table>\n",
              "</div>"
            ],
            "text/plain": [
              "                                              review  sentiment\n",
              "0  One of the other reviewers has mentioned that ...          1\n",
              "1  A wonderful little production. <br /><br />The...          1\n",
              "2  I thought this was a wonderful way to spend ti...          1\n",
              "3  Basically there's a family where a little boy ...          0\n",
              "4  Petter Mattei's \"Love in the Time of Money\" is...          1"
            ]
          },
          "execution_count": 9,
          "metadata": {},
          "output_type": "execute_result"
        }
      ],
      "source": [
        "\n",
        "\n",
        "# Lets encode labels: each label is an integer value of either 0 or 1, where 0 is a negative review, and 1 is a positive review.\n",
        "from sklearn import preprocessing\n",
        "label_encoder = preprocessing.LabelEncoder()\n",
        "imdb_data['sentiment'] = label_encoder.fit_transform(imdb_data['sentiment'])\n",
        "imdb_data.head()\n",
        "\n"
      ]
    },
    {
      "cell_type": "code",
      "execution_count": 10,
      "metadata": {
        "colab": {
          "base_uri": "https://localhost:8080/"
        },
        "id": "07raLLdEqF3p",
        "outputId": "8ed64578-81e6-4ab5-ad8d-75592c257eb8"
      },
      "outputs": [
        {
          "name": "stdout",
          "output_type": "stream",
          "text": [
            "(40000,) (40000,)\n",
            "(10000,) (10000,)\n"
          ]
        }
      ],
      "source": [
        "train_reviews = imdb_data.review[:40000]\n",
        "train_sentiments = imdb_data.sentiment[:40000]\n",
        "test_reviews=imdb_data.review[40000:]\n",
        "test_sentiments=imdb_data.sentiment[40000:]\n",
        "print(train_reviews.shape, train_sentiments.shape)\n",
        "print(test_reviews.shape, test_sentiments.shape)\n",
        "tokenizer=ToktokTokenizer()\n",
        "#filter out all stop words which do not contribute much to the learning\n",
        "stopword_list = nltk.corpus.stopwords.words('english')\n"
      ]
    },
    {
      "cell_type": "markdown",
      "metadata": {
        "id": "O-H064qCsv9x"
      },
      "source": [
        "Remove irrelevent symbols"
      ]
    },
    {
      "cell_type": "code",
      "execution_count": 11,
      "metadata": {
        "id": "2tziurDZrDzI"
      },
      "outputs": [],
      "source": [
        "# def strip_html(text):\n",
        "#   soup = BeautifulSoup(text, \"html.parser\")\n",
        "#   return soup.get_text()\n",
        "# def remove_between_square_brackets(text):\n",
        "#   return re.sub('\\[[^]]*\\]','',text)\n",
        "# def remove_special_characters(text, remove_digits=True):\n",
        "#   pattern=r'[^a-zA-Z0-9\\s]'\n",
        "#   text=re.sub(pattern,'',text)\n",
        "#   return text\n",
        "# def denoise_text(text):\n",
        "#   text = strip_html(text)\n",
        "#   text = remove_between_square_brackets(text)\n",
        "#   text = remove_special_characters(text)\n",
        "#   return text\n",
        "# imdb_data['review']=imdb_data['review'].apply(denoise_text)\n"
      ]
    },
    {
      "cell_type": "markdown",
      "metadata": {
        "id": "FFKTqUWbsF3o"
      },
      "source": [
        "Word Stemming"
      ]
    },
    {
      "cell_type": "code",
      "execution_count": 12,
      "metadata": {
        "id": "09yktoRYr3BE"
      },
      "outputs": [],
      "source": [
        "# def my_stemmer(text):\n",
        "#   ps = nltk.porter.PorterStemmer()\n",
        "#   text = ' '.join([ps.stem(word) for word in text.split()])\n",
        "#   return text\n",
        "# imdb_data['review']=imdb_data['review'].apply(my_stemmer)\n"
      ]
    },
    {
      "cell_type": "markdown",
      "metadata": {
        "id": "95jMVwAEs1J1"
      },
      "source": [
        "Remove Stop Words"
      ]
    },
    {
      "cell_type": "code",
      "execution_count": 13,
      "metadata": {
        "colab": {
          "base_uri": "https://localhost:8080/"
        },
        "id": "BQwCJstHs0NZ",
        "outputId": "dea5936e-a1da-43b9-abb9-523e7cfd0ac2"
      },
      "outputs": [
        {
          "name": "stdout",
          "output_type": "stream",
          "text": [
            "{'an', 'be', 'being', 'against', 't', 'yourself', 'who', 'was', 'such', 'now', 'itself', 'am', 'can', 'does', 'out', 'ours', \"weren't\", \"hasn't\", 'those', 'hadn', 'below', 'i', 'how', 's', 'each', \"wouldn't\", 'our', 'been', 'theirs', 'some', 'themselves', 'during', 'did', 'ma', 'up', 'no', 'me', 'didn', 'they', 'and', 'just', 'll', \"needn't\", 'because', 'through', 'don', 'mightn', 'other', 'nor', 'then', \"shouldn't\", \"hadn't\", 'shouldn', 'them', 'doing', 'that', 'again', 'most', 'own', \"she's\", 'my', 'himself', 'needn', 'than', 'with', 'here', \"didn't\", 'ourselves', 'wasn', 'weren', \"you've\", 'once', 'shan', 'any', 'after', \"aren't\", 'all', \"you're\", 'above', 'to', 'at', 'this', 'both', 'it', 'aren', 'which', 'she', 'from', 'mustn', 'between', 're', 'few', 'over', 'should', \"doesn't\", \"don't\", 'of', \"shan't\", 'wouldn', 'but', \"isn't\", 'his', \"won't\", 'we', 'were', 'until', 'haven', 'myself', 'on', 'yours', 'more', 'having', 'yourselves', 'he', 'in', 'further', 'while', 'will', 'ain', 'isn', 'or', 'doesn', 'its', 'very', 'you', 'what', 'as', 'have', 'when', 'under', 'hasn', 'her', 'your', \"it's\", 'too', 'y', \"should've\", \"mustn't\", 'do', 'couldn', 'herself', \"mightn't\", 'where', 'not', 'same', 'o', 'there', 'why', 'only', 'won', 'for', 'into', 'about', 've', 'before', 'these', 'by', 'whom', 'so', 'the', \"you'll\", \"you'd\", 'a', 'm', \"wasn't\", \"haven't\", 'off', 'are', 'their', 'hers', 'had', 'd', 'has', 'him', 'is', \"couldn't\", 'if', \"that'll\", 'down'}\n"
          ]
        }
      ],
      "source": [
        "stop=set(stopwords.words('english'))\n",
        "print(stop)\n",
        "\n",
        "def remove_stopwords(text, is_lower_case=False):\n",
        "  tokens = tokenizer.tokenize(text)\n",
        "  tokens = [token.strip() for token in tokens]\n",
        "  if is_lower_case:\n",
        "    filtered_tokens = [token for token in tokens if token not in stopword_list]\n",
        "  else:\n",
        "    filtered_tokens = [token for token in tokens if token.lower() not in stopword_list]\n",
        "  filtered_text= ' '.join(filtered_tokens)\n",
        "  return filtered_text\n",
        "imdb_data['review'] = imdb_data['review'].apply(remove_stopwords)\n",
        "\n"
      ]
    },
    {
      "cell_type": "code",
      "execution_count": 14,
      "metadata": {
        "colab": {
          "base_uri": "https://localhost:8080/",
          "height": 244
        },
        "id": "2lG3c8dzWI62",
        "outputId": "6536af8f-2d67-4362-ce9c-19959fc5e79a"
      },
      "outputs": [
        {
          "name": "stdout",
          "output_type": "stream",
          "text": [
            "BOW_cv_train:  (40000, 6452051)\n",
            "BOW_cv_test: (10000, 6452051)\n"
          ]
        }
      ],
      "source": [
        "cv=CountVectorizer(min_df=0,max_df=1,binary=False,ngram_range=(1,3))\n",
        "cv_train_reviews=cv.fit_transform(train_reviews)\n",
        "cv_test_reviews=cv.transform(test_reviews)\n",
        "print('BOW_cv_train: ', cv_train_reviews.shape)\n",
        "print('BOW_cv_test:', cv_test_reviews.shape)\n"
      ]
    },
    {
      "cell_type": "code",
      "execution_count": 15,
      "metadata": {
        "colab": {
          "base_uri": "https://localhost:8080/"
        },
        "id": "ckZqoyRbA6wL",
        "outputId": "0b539c71-439d-4499-926e-ea728787b203"
      },
      "outputs": [
        {
          "name": "stdout",
          "output_type": "stream",
          "text": [
            "Tfidf_train: (40000, 6452051)\n",
            "Tfidf_test: (10000, 6452051)\n"
          ]
        }
      ],
      "source": [
        "#Tfidf vectorizer\n",
        "tv=TfidfVectorizer(min_df=0,max_df=1,use_idf=True,ngram_range=(1,3))\n",
        "#transformed train reviews\n",
        "tv_train_reviews=tv.fit_transform(train_reviews)\n",
        "#transformed test reviews\n",
        "tv_test_reviews=tv.transform(test_reviews)\n",
        "print('Tfidf_train:',tv_train_reviews.shape)\n",
        "print('Tfidf_test:',tv_test_reviews.shape)\n",
        "\n"
      ]
    },
    {
      "cell_type": "code",
      "execution_count": 16,
      "metadata": {
        "id": "vwYcbd9HAD8m"
      },
      "outputs": [],
      "source": [
        "max_sequence_length = 100\n",
        "loss_function = 'binary_crossentropy'\n",
        "optimizer = 'adam'\n",
        "addition_metrics = ['accuracy']\n",
        "number_of_epochs=100\n",
        "verbosity_mode =True\n",
        "validation_split = 0.2\n",
        "#add a callback function to speed up the process \n",
        "callbacks = [tf.keras.callbacks.EarlyStopping(monitor='val_loss', patience=2)]\n"
      ]
    },
    {
      "cell_type": "markdown",
      "metadata": {
        "id": "JyjYU6Kop6JY"
      },
      "source": []
    },
    {
      "cell_type": "markdown",
      "metadata": {
        "id": "lfEAGfyWmBAg"
      },
      "source": [
        "Deep Learning Model: Keras. The input data are transformed tokens insteaed of the original words"
      ]
    },
    {
      "cell_type": "code",
      "execution_count": 17,
      "metadata": {
        "colab": {
          "base_uri": "https://localhost:8080/",
          "height": 244
        },
        "id": "cAJVVQgTmABf",
        "outputId": "3a84d699-ded2-4ea1-ff1f-7d5657a26616"
      },
      "outputs": [
        {
          "name": "stdout",
          "output_type": "stream",
          "text": [
            "shape of X_train (40000, 6452051)\n",
            "input_shape (6452051,)\n",
            "Model: \"sequential\"\n",
            "_________________________________________________________________\n",
            "Layer (type)                 Output Shape              Param #   \n",
            "=================================================================\n",
            "dropout (Dropout)            (None, 6452051)           0         \n",
            "_________________________________________________________________\n",
            "dense (Dense)                (None, 64)                412931328 \n",
            "_________________________________________________________________\n",
            "dropout_1 (Dropout)          (None, 64)                0         \n",
            "_________________________________________________________________\n",
            "dense_1 (Dense)              (None, 64)                4160      \n",
            "_________________________________________________________________\n",
            "dropout_2 (Dropout)          (None, 64)                0         \n",
            "_________________________________________________________________\n",
            "dense_2 (Dense)              (None, 1)                 65        \n",
            "=================================================================\n",
            "Total params: 412,935,553\n",
            "Trainable params: 412,935,553\n",
            "Non-trainable params: 0\n",
            "_________________________________________________________________\n",
            "Epoch 1/100\n",
            "   5/1000 [..............................] - ETA: 1:59:27 - loss: 0.6927 - accuracy: 0.4789"
          ]
        }
      ],
      "source": [
        "# print(\"type of cv_revie\",type(cv_train_reviews))\n",
        "\n",
        "X_train = cv_train_reviews.toarray()\n",
        "print(\"shape of X_train\", X_train.shape)\n",
        "input_shape = X_train.shape[1:]\n",
        "\n",
        "print(\"input_shape\", input_shape)\n",
        "y = (np.array(train_sentiments))\n",
        "model = keras.Sequential()\n",
        "\n",
        "model.add(layers.Dropout(rate=0.5, input_shape=input_shape))\n",
        "model.add(layers.Dense(units=64, activation='relu'))\n",
        "model.add(layers.Dropout(0.2))\n",
        "model.add(layers.Dense(units=64, activation='relu'))\n",
        "model.add(layers.Dropout(0.2))\n",
        "model.add(layers.Dense(1, activation='softmax'))\n",
        "\n",
        "model.compile(optimizer=optimizer, loss=loss_function, metrics=addition_metrics)\n",
        "model.summary()\n",
        "history = model.fit(X_train, train_sentiments,epochs=number_of_epochs, verbose=verbosity_mode,validation_split=validation_split)\n",
        "test_results = model.evaluate(cv_test_reviews, test_sentiments, verbose=False)\n",
        "\n",
        "# print(f'Test results - Loss: {test_results[0]} - Accuracy:{100*test_results[1]}')"
      ]
    },
    {
      "cell_type": "markdown",
      "metadata": {
        "id": "GfyTmqy6AeiD"
      },
      "source": [
        "Logistic Regression: Bag of words and Term Frequency-Inverse document Frequency\n"
      ]
    },
    {
      "cell_type": "code",
      "execution_count": 1,
      "metadata": {},
      "outputs": [
        {
          "ename": "NameError",
          "evalue": "name 'test_results' is not defined",
          "output_type": "error",
          "traceback": [
            "\u001b[0;31m---------------------------------------------------------------------------\u001b[0m",
            "\u001b[0;31mNameError\u001b[0m                                 Traceback (most recent call last)",
            "Input \u001b[0;32mIn [1]\u001b[0m, in \u001b[0;36m<cell line: 1>\u001b[0;34m()\u001b[0m\n\u001b[0;32m----> 1\u001b[0m \u001b[38;5;28mprint\u001b[39m(\u001b[43mtest_results\u001b[49m)\n",
            "\u001b[0;31mNameError\u001b[0m: name 'test_results' is not defined"
          ]
        }
      ],
      "source": [
        "print(test_results)"
      ]
    },
    {
      "cell_type": "code",
      "execution_count": null,
      "metadata": {
        "id": "fvtf9hz_uIRT"
      },
      "outputs": [],
      "source": [
        "lr = LogisticRegression(penalty='l2',max_iter=200, verbose=1, random_state=77)\n",
        "logistic_bow= lr.fit(cv_train_reviews, train_sentiments)\n",
        "print(logistic_bow)\n",
        "logistic_tfidf=lr.fit(tv_train_reviews,train_sentiments)\n",
        "print(logistic_tfidf)\n",
        "\n"
      ]
    },
    {
      "cell_type": "markdown",
      "metadata": {
        "id": "5-i12wbFAg5E"
      },
      "source": []
    },
    {
      "cell_type": "code",
      "execution_count": null,
      "metadata": {
        "id": "GhK0LBBXull8"
      },
      "outputs": [],
      "source": [
        "logistic_bow_pred = lr.predict(cv_test_reviews)\n",
        "print(logistic_bow_pred)\n",
        "logistic_tfidf_pred=lr.predict(tv_test_reviews)\n",
        "print(logistic_tfidf_pred)\n"
      ]
    },
    {
      "cell_type": "code",
      "execution_count": null,
      "metadata": {
        "id": "xaRT6FF6u1FY"
      },
      "outputs": [],
      "source": [
        "lr_bow_report=classification_report(test_sentiments,logistic_bow_pred, target_names=['Positive','Negative'])\n",
        "print(lr_bow_report)\n",
        "lr_tfidf_report=classification_report(test_sentiments, logistic_tfidf_pred, target_names=['Positive','Negative'])\n",
        "print(lr_tfidf_report)"
      ]
    },
    {
      "cell_type": "code",
      "execution_count": null,
      "metadata": {
        "id": "xQ78lekVvRKX"
      },
      "outputs": [],
      "source": [
        "lr_bow_report=classification_report(test_sentiments,logistic_bow_pred, target_names=['Positive','Negative'])\n",
        "print(lr_bow_report)\n",
        "\n",
        "lr_tfidf_report=classification_report(test_sentiments, logistic_tfidf_pred, target_names=['Positive', 'Negative'])\n",
        "print(lr_tfidf_report)\n"
      ]
    },
    {
      "cell_type": "code",
      "execution_count": null,
      "metadata": {
        "id": "fHb8_1M7wLQu"
      },
      "outputs": [],
      "source": [
        "svm=SGDClassifier(loss='hinge', max_iter=1000, random_state=77)\n",
        "svm_bow=svm.fit(cv_train_reviews, train_sentiments)\n",
        "print(svm_bow)\n",
        "svm_tfidf=svm.fit(tv_train_reviews, train_sentiments)\n",
        "print(svm_tfidf)\n",
        "\n",
        "\n",
        "\n"
      ]
    },
    {
      "cell_type": "code",
      "execution_count": null,
      "metadata": {
        "id": "BlCsgL2kkkmx"
      },
      "outputs": [],
      "source": [
        "\n",
        "svm_bow_predict=svm.predict(cv_test_reviews)\n",
        "print(svm_bow_predict)\n",
        "#Predicting the model for tfidf features\n",
        "svm_tfidf_predict=svm.predict(tv_test_reviews)\n",
        "print(svm_tfidf_predict)\n",
        "\n",
        "svm_bow_report=classification_report(test_sentiments, svm_bow_predict, target_names=['Positive','Negative'])\n",
        "print(svm_bow_report)\n",
        "svm_tfidf_report=classification_report(test_sentiments, svm_tfidf_predict,target_names=['Positive','Negative'])\n",
        "print(svm_tfidf_report)\n"
      ]
    },
    {
      "cell_type": "code",
      "execution_count": null,
      "metadata": {
        "id": "DCtH6SIFklAh"
      },
      "outputs": [],
      "source": [
        "svm_bow_score=accuracy_score(test_sentiments,svm_bow_predict)\n",
        "print(\"svm_bow_score :\",svm_bow_score)\n",
        "#Accuracy score for tfidf features\n",
        "svm_tfidf_score=accuracy_score(test_sentiments,svm_tfidf_predict)\n",
        "print(\"svm_tfidf_score :\",svm_tfidf_score)"
      ]
    },
    {
      "cell_type": "code",
      "execution_count": null,
      "metadata": {
        "id": "LYxexEHbrGGp"
      },
      "outputs": [],
      "source": [
        "#Classification report for bag of words \n",
        "svm_bow_report=classification_report(test_sentiments,svm_bow_predict,target_names=['Positive','Negative'])\n",
        "print(svm_bow_report)\n",
        "#Classification report for tfidf features\n",
        "svm_tfidf_report=classification_report(test_sentiments,svm_tfidf_predict,target_names=['Positive','Negative'])\n",
        "print(svm_tfidf_report)"
      ]
    },
    {
      "cell_type": "markdown",
      "metadata": {
        "id": "VmRtgPZKrZBX"
      },
      "source": [
        "Multinomial Naive Bayes"
      ]
    },
    {
      "cell_type": "code",
      "execution_count": null,
      "metadata": {
        "id": "52qh29pYrW8B"
      },
      "outputs": [],
      "source": [
        "#training the model\n",
        "mnb=MultinomialNB()\n",
        "#fitting the svm for bag of words\n",
        "mnb_bow=mnb.fit(cv_train_reviews,train_sentiments)\n",
        "print(mnb_bow)\n",
        "#fitting the svm for tfidf features\n",
        "mnb_tfidf=mnb.fit(tv_train_reviews,train_sentiments)\n",
        "print(mnb_tfidf)"
      ]
    },
    {
      "cell_type": "code",
      "execution_count": null,
      "metadata": {
        "id": "iUmmB2Cfrh2h"
      },
      "outputs": [],
      "source": [
        "#Predicting the model for bag of words\n",
        "mnb_bow_predict=mnb.predict(cv_test_reviews)\n",
        "print(mnb_bow_predict)\n",
        "#Predicting the model for tfidf features\n",
        "mnb_tfidf_predict=mnb.predict(tv_test_reviews)\n",
        "print(mnb_tfidf_predict)"
      ]
    },
    {
      "cell_type": "code",
      "execution_count": null,
      "metadata": {
        "id": "AC553DMLrmd2"
      },
      "outputs": [],
      "source": [
        "mnb_bow_report=classification_report(test_sentiments,mnb_bow_predict,target_names=['Positive','Negative'])\n",
        "print(mnb_bow_report)\n",
        "#Classification report for tfidf features\n",
        "mnb_tfidf_report=classification_report(test_sentiments,mnb_tfidf_predict,target_names=['Positive','Negative'])\n",
        "print(mnb_tfidf_report)"
      ]
    },
    {
      "cell_type": "markdown",
      "metadata": {
        "id": "msI_-Iimr0wc"
      },
      "source": [
        "Use Word Cloud to show the most popular positive and negative reviews"
      ]
    },
    {
      "cell_type": "code",
      "execution_count": null,
      "metadata": {
        "id": "zVGvoskYr6Py"
      },
      "outputs": [],
      "source": [
        "plt.figure(figsize=(10,10))\n",
        "positive_text=train_reviews[1]\n",
        "WC=WordCloud(width=1000,height=500,max_words=500,min_font_size=5)\n",
        "positive_words=WC.generate(positive_text)\n",
        "plt.imshow(positive_words,interpolation='bilinear')\n",
        "plt.show\n"
      ]
    },
    {
      "cell_type": "code",
      "execution_count": null,
      "metadata": {
        "id": "iSLNJC5msDeK"
      },
      "outputs": [],
      "source": [
        "plt.figure(figsize=(10,10))\n",
        "negative_text=train_reviews[8]\n",
        "WC=WordCloud(width=1000,height=500,max_words=500,min_font_size=5)\n",
        "negative_words=WC.generate(negative_text)\n",
        "plt.imshow(negative_words,interpolation='bilinear')\n",
        "plt.show"
      ]
    }
  ],
  "metadata": {
    "accelerator": "GPU",
    "colab": {
      "authorship_tag": "ABX9TyPdfTV1gCn3s9a7WeIB0gKk",
      "collapsed_sections": [],
      "include_colab_link": true,
      "mount_file_id": "1Dvl_KLh-ck7JbHIzkKOan6B14FxBNogg",
      "name": "Imdb_bert.ipynb",
      "provenance": []
    },
    "kernelspec": {
      "display_name": "Python 3",
      "name": "python3"
    },
    "language_info": {
      "codemirror_mode": {
        "name": "ipython",
        "version": 3
      },
      "file_extension": ".py",
      "mimetype": "text/x-python",
      "name": "python",
      "nbconvert_exporter": "python",
      "pygments_lexer": "ipython3",
      "version": "3.8.5"
    }
  },
  "nbformat": 4,
  "nbformat_minor": 0
}
