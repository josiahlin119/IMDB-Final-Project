{
  "cells": [
    {
      "cell_type": "markdown",
      "metadata": {
        "colab_type": "text",
        "id": "view-in-github"
      },
      "source": [
        "<a href=\"https://colab.research.google.com/github/josiahlin119/IMDB-Final-Project/blob/main/Imdb_bert.ipynb\" target=\"_parent\"><img src=\"https://colab.research.google.com/assets/colab-badge.svg\" alt=\"Open In Colab\"/></a>"
      ]
    },
    {
      "cell_type": "code",
      "execution_count": 1,
      "metadata": {
        "id": "ahBKciDhipS_"
      },
      "outputs": [],
      "source": [
        "#Load the libraries\n",
        "import numpy as np\n",
        "import pandas as pd\n",
        "import seaborn as sns\n",
        "import matplotlib.pyplot as plt\n",
        "import nltk\n",
        "from sklearn.feature_extraction.text import CountVectorizer\n",
        "from sklearn.feature_extraction.text import TfidfVectorizer\n",
        "from sklearn.preprocessing import LabelBinarizer\n",
        "from nltk.corpus import stopwords\n",
        "\n",
        "from nltk.stem.porter import PorterStemmer\n",
        "from wordcloud import WordCloud,STOPWORDS\n",
        "from nltk.stem import WordNetLemmatizer\n",
        "from nltk.tokenize import word_tokenize,sent_tokenize\n",
        "from bs4 import BeautifulSoup\n",
        "\n",
        "import re,string,unicodedata\n",
        "from nltk.tokenize.toktok import ToktokTokenizer\n",
        "from nltk.stem import LancasterStemmer,WordNetLemmatizer\n",
        "from sklearn.linear_model import LogisticRegression,SGDClassifier\n",
        "from sklearn.naive_bayes import MultinomialNB\n",
        "from sklearn.svm import SVC\n",
        "from textblob import TextBlob\n",
        "from textblob import Word\n",
        "from sklearn.metrics import classification_report,confusion_matrix,accuracy_score\n",
        "#deep learning\n",
        "\n",
        "import tensorflow as tf\n",
        "from tensorflow import keras\n",
        "from keras.datasets import imdb\n",
        "from tensorflow.keras import models\n",
        "from tensorflow.keras import layers\n",
        "\n",
        "sns.set_style(\"whitegrid\")"
      ]
    },
    {
      "cell_type": "code",
      "execution_count": 2,
      "metadata": {},
      "outputs": [],
      "source": [
        "from __future__ import absolute_import, division, print_function, unicode_literals\n",
        "%matplotlib inline"
      ]
    },
    {
      "cell_type": "code",
      "execution_count": 3,
      "metadata": {
        "colab": {
          "base_uri": "https://localhost:8080/"
        },
        "id": "XXZMPG0BP4cb",
        "outputId": "6f1e296c-209f-4a26-9f2b-ee39b5b7c40b"
      },
      "outputs": [
        {
          "name": "stderr",
          "output_type": "stream",
          "text": [
            "[nltk_data] Downloading package stopwords to\n",
            "[nltk_data]     /Users/josiah/nltk_data...\n",
            "[nltk_data]   Package stopwords is already up-to-date!\n"
          ]
        },
        {
          "data": {
            "text/plain": [
              "True"
            ]
          },
          "execution_count": 3,
          "metadata": {},
          "output_type": "execute_result"
        }
      ],
      "source": [
        "nltk.download('stopwords')\n"
      ]
    },
    {
      "cell_type": "code",
      "execution_count": 4,
      "metadata": {
        "colab": {
          "base_uri": "https://localhost:8080/"
        },
        "id": "8brXlx3sn6wF",
        "outputId": "2ca4a014-ff5f-4e85-c3cd-d7cb360491de"
      },
      "outputs": [
        {
          "name": "stdout",
          "output_type": "stream",
          "text": [
            "(50000, 2)\n"
          ]
        },
        {
          "data": {
            "text/html": [
              "<div>\n",
              "<style scoped>\n",
              "    .dataframe tbody tr th:only-of-type {\n",
              "        vertical-align: middle;\n",
              "    }\n",
              "\n",
              "    .dataframe tbody tr th {\n",
              "        vertical-align: top;\n",
              "    }\n",
              "\n",
              "    .dataframe thead th {\n",
              "        text-align: right;\n",
              "    }\n",
              "</style>\n",
              "<table border=\"1\" class=\"dataframe\">\n",
              "  <thead>\n",
              "    <tr style=\"text-align: right;\">\n",
              "      <th></th>\n",
              "      <th>review</th>\n",
              "      <th>sentiment</th>\n",
              "    </tr>\n",
              "  </thead>\n",
              "  <tbody>\n",
              "    <tr>\n",
              "      <th>0</th>\n",
              "      <td>One of the other reviewers has mentioned that ...</td>\n",
              "      <td>positive</td>\n",
              "    </tr>\n",
              "    <tr>\n",
              "      <th>1</th>\n",
              "      <td>A wonderful little production. &lt;br /&gt;&lt;br /&gt;The...</td>\n",
              "      <td>positive</td>\n",
              "    </tr>\n",
              "    <tr>\n",
              "      <th>2</th>\n",
              "      <td>I thought this was a wonderful way to spend ti...</td>\n",
              "      <td>positive</td>\n",
              "    </tr>\n",
              "    <tr>\n",
              "      <th>3</th>\n",
              "      <td>Basically there's a family where a little boy ...</td>\n",
              "      <td>negative</td>\n",
              "    </tr>\n",
              "    <tr>\n",
              "      <th>4</th>\n",
              "      <td>Petter Mattei's \"Love in the Time of Money\" is...</td>\n",
              "      <td>positive</td>\n",
              "    </tr>\n",
              "  </tbody>\n",
              "</table>\n",
              "</div>"
            ],
            "text/plain": [
              "                                              review sentiment\n",
              "0  One of the other reviewers has mentioned that ...  positive\n",
              "1  A wonderful little production. <br /><br />The...  positive\n",
              "2  I thought this was a wonderful way to spend ti...  positive\n",
              "3  Basically there's a family where a little boy ...  negative\n",
              "4  Petter Mattei's \"Love in the Time of Money\" is...  positive"
            ]
          },
          "execution_count": 4,
          "metadata": {},
          "output_type": "execute_result"
        }
      ],
      "source": [
        "imdb_data=pd.read_csv('https://raw.githubusercontent.com/josiahlin119/IMDB-Final-Project/main/ReviewData/IMDB%20Dataset.csv')\n",
        "print(imdb_data.shape)\n",
        "imdb_data.head()"
      ]
    },
    {
      "cell_type": "code",
      "execution_count": 5,
      "metadata": {
        "colab": {
          "base_uri": "https://localhost:8080/",
          "height": 175
        },
        "id": "umnyWfU-p6VF",
        "outputId": "9e4e6b8a-1f7d-47d1-df2b-4b90c0752c2b"
      },
      "outputs": [
        {
          "data": {
            "text/html": [
              "<div>\n",
              "<style scoped>\n",
              "    .dataframe tbody tr th:only-of-type {\n",
              "        vertical-align: middle;\n",
              "    }\n",
              "\n",
              "    .dataframe tbody tr th {\n",
              "        vertical-align: top;\n",
              "    }\n",
              "\n",
              "    .dataframe thead th {\n",
              "        text-align: right;\n",
              "    }\n",
              "</style>\n",
              "<table border=\"1\" class=\"dataframe\">\n",
              "  <thead>\n",
              "    <tr style=\"text-align: right;\">\n",
              "      <th></th>\n",
              "      <th>review</th>\n",
              "      <th>sentiment</th>\n",
              "    </tr>\n",
              "  </thead>\n",
              "  <tbody>\n",
              "    <tr>\n",
              "      <th>count</th>\n",
              "      <td>50000</td>\n",
              "      <td>50000</td>\n",
              "    </tr>\n",
              "    <tr>\n",
              "      <th>unique</th>\n",
              "      <td>49582</td>\n",
              "      <td>2</td>\n",
              "    </tr>\n",
              "    <tr>\n",
              "      <th>top</th>\n",
              "      <td>Loved today's show!!! It was a variety and not...</td>\n",
              "      <td>negative</td>\n",
              "    </tr>\n",
              "    <tr>\n",
              "      <th>freq</th>\n",
              "      <td>5</td>\n",
              "      <td>25000</td>\n",
              "    </tr>\n",
              "  </tbody>\n",
              "</table>\n",
              "</div>"
            ],
            "text/plain": [
              "                                                   review sentiment\n",
              "count                                               50000     50000\n",
              "unique                                              49582         2\n",
              "top     Loved today's show!!! It was a variety and not...  negative\n",
              "freq                                                    5     25000"
            ]
          },
          "execution_count": 5,
          "metadata": {},
          "output_type": "execute_result"
        }
      ],
      "source": [
        "imdb_data.describe()"
      ]
    },
    {
      "cell_type": "code",
      "execution_count": 6,
      "metadata": {
        "colab": {
          "base_uri": "https://localhost:8080/"
        },
        "id": "dWSOktKlp-wZ",
        "outputId": "45c1182a-d14b-4e98-aaab-77fe8d496caa"
      },
      "outputs": [
        {
          "data": {
            "text/plain": [
              "negative    25000\n",
              "positive    25000\n",
              "Name: sentiment, dtype: int64"
            ]
          },
          "execution_count": 6,
          "metadata": {},
          "output_type": "execute_result"
        }
      ],
      "source": [
        "imdb_data['sentiment'].value_counts()"
      ]
    },
    {
      "cell_type": "code",
      "execution_count": 7,
      "metadata": {},
      "outputs": [
        {
          "data": {
            "text/html": [
              "<div>\n",
              "<style scoped>\n",
              "    .dataframe tbody tr th:only-of-type {\n",
              "        vertical-align: middle;\n",
              "    }\n",
              "\n",
              "    .dataframe tbody tr th {\n",
              "        vertical-align: top;\n",
              "    }\n",
              "\n",
              "    .dataframe thead th {\n",
              "        text-align: right;\n",
              "    }\n",
              "</style>\n",
              "<table border=\"1\" class=\"dataframe\">\n",
              "  <thead>\n",
              "    <tr style=\"text-align: right;\">\n",
              "      <th></th>\n",
              "      <th>review</th>\n",
              "      <th>sentiment</th>\n",
              "    </tr>\n",
              "  </thead>\n",
              "  <tbody>\n",
              "    <tr>\n",
              "      <th>0</th>\n",
              "      <td>One of the other reviewers has mentioned that ...</td>\n",
              "      <td>1</td>\n",
              "    </tr>\n",
              "    <tr>\n",
              "      <th>1</th>\n",
              "      <td>A wonderful little production. &lt;br /&gt;&lt;br /&gt;The...</td>\n",
              "      <td>1</td>\n",
              "    </tr>\n",
              "    <tr>\n",
              "      <th>2</th>\n",
              "      <td>I thought this was a wonderful way to spend ti...</td>\n",
              "      <td>1</td>\n",
              "    </tr>\n",
              "    <tr>\n",
              "      <th>3</th>\n",
              "      <td>Basically there's a family where a little boy ...</td>\n",
              "      <td>0</td>\n",
              "    </tr>\n",
              "    <tr>\n",
              "      <th>4</th>\n",
              "      <td>Petter Mattei's \"Love in the Time of Money\" is...</td>\n",
              "      <td>1</td>\n",
              "    </tr>\n",
              "  </tbody>\n",
              "</table>\n",
              "</div>"
            ],
            "text/plain": [
              "                                              review  sentiment\n",
              "0  One of the other reviewers has mentioned that ...          1\n",
              "1  A wonderful little production. <br /><br />The...          1\n",
              "2  I thought this was a wonderful way to spend ti...          1\n",
              "3  Basically there's a family where a little boy ...          0\n",
              "4  Petter Mattei's \"Love in the Time of Money\" is...          1"
            ]
          },
          "execution_count": 7,
          "metadata": {},
          "output_type": "execute_result"
        }
      ],
      "source": [
        "\n",
        "\n",
        "# Lets encode labels: each label is an integer value of either 0 or 1, where 0 is a negative review, and 1 is a positive review.\n",
        "from sklearn import preprocessing\n",
        "label_encoder = preprocessing.LabelEncoder()\n",
        "imdb_data['sentiment'] = label_encoder.fit_transform(imdb_data['sentiment'])\n",
        "imdb_data.head()\n",
        "\n"
      ]
    },
    {
      "cell_type": "code",
      "execution_count": 8,
      "metadata": {},
      "outputs": [
        {
          "data": {
            "image/png": "[encoded data removed]",
            "text/plain": [
              "<Figure size 720x432 with 1 Axes>"
            ]
          },
          "metadata": {
            "needs_background": "light"
          },
          "output_type": "display_data"
        }
      ],
      "source": [
        "# Now, let's see the average number of words per sample\n",
        "plt.figure(figsize=(10, 6))\n",
        "plt.hist(x=[len(sample) for sample in list(imdb_data['review'])], bins=30,density=False,color='Orange')\n",
        "plt.xlabel('Length of samples')\n",
        "plt.ylabel('Number of samples')\n",
        "plt.title('Sample length distribution')\n",
        "plt.show()"
      ]
    },
    {
      "cell_type": "code",
      "execution_count": 9,
      "metadata": {
        "colab": {
          "base_uri": "https://localhost:8080/"
        },
        "id": "07raLLdEqF3p",
        "outputId": "8ed64578-81e6-4ab5-ad8d-75592c257eb8"
      },
      "outputs": [],
      "source": [
        "\n",
        "tokenizer=ToktokTokenizer()\n",
        "#filter out all stop words which do not contribute much to the learning\n",
        "stopword_list = nltk.corpus.stopwords.words('english')\n"
      ]
    },
    {
      "cell_type": "markdown",
      "metadata": {
        "id": "O-H064qCsv9x"
      },
      "source": [
        "Remove irrelevent symbols"
      ]
    },
    {
      "cell_type": "code",
      "execution_count": 10,
      "metadata": {
        "id": "2tziurDZrDzI"
      },
      "outputs": [
        {
          "name": "stderr",
          "output_type": "stream",
          "text": [
            "/Users/josiah/opt/anaconda3/envs/DL/lib/python3.8/site-packages/bs4/__init__.py:435: MarkupResemblesLocatorWarning: The input looks more like a filename than markup. You may want to open this file and pass the filehandle into Beautiful Soup.\n",
            "  warnings.warn(\n"
          ]
        }
      ],
      "source": [
        "def strip_html(text):\n",
        "  soup = BeautifulSoup(text, \"html.parser\")\n",
        "  return soup.get_text()\n",
        "def remove_between_square_brackets(text):\n",
        "  return re.sub('\\[[^]]*\\]','',text)\n",
        "def remove_special_characters(text, remove_digits=True):\n",
        "  pattern=r'[^a-zA-Z0-9\\s]'\n",
        "  text=re.sub(pattern,'',text)\n",
        "  return text\n",
        "def denoise_text(text):\n",
        "  text = strip_html(text)\n",
        "  text = remove_between_square_brackets(text)\n",
        "  text = remove_special_characters(text)\n",
        "  return text\n",
        "imdb_data['review']=imdb_data['review'].apply(denoise_text)\n"
      ]
    },
    {
      "cell_type": "markdown",
      "metadata": {
        "id": "FFKTqUWbsF3o"
      },
      "source": [
        "Word Stemming"
      ]
    },
    {
      "cell_type": "code",
      "execution_count": 11,
      "metadata": {
        "id": "09yktoRYr3BE"
      },
      "outputs": [],
      "source": [
        "def my_stemmer(text):\n",
        "  ps = nltk.porter.PorterStemmer()\n",
        "  text = ' '.join([ps.stem(word) for word in text.split()])\n",
        "  return text\n",
        "imdb_data['review']=imdb_data['review'].apply(my_stemmer)\n"
      ]
    },
    {
      "cell_type": "markdown",
      "metadata": {
        "id": "95jMVwAEs1J1"
      },
      "source": [
        "Remove Stop Words"
      ]
    },
    {
      "cell_type": "code",
      "execution_count": 12,
      "metadata": {
        "colab": {
          "base_uri": "https://localhost:8080/"
        },
        "id": "BQwCJstHs0NZ",
        "outputId": "dea5936e-a1da-43b9-abb9-523e7cfd0ac2"
      },
      "outputs": [
        {
          "name": "stdout",
          "output_type": "stream",
          "text": [
            "{'for', 'was', 'd', 'and', 'while', 've', 'our', \"didn't\", 'through', \"needn't\", 'herself', 'these', 'only', 'doesn', 'if', 'so', 'were', 'just', 'itself', 'own', 'the', 'where', 'he', 'they', 'an', \"couldn't\", 'by', 'some', \"doesn't\", \"that'll\", 'mightn', 'my', 'who', 'i', \"haven't\", 'at', 'once', 'very', \"mustn't\", 'haven', 'this', 'in', 'each', 'during', 'up', 'll', 'until', 'should', 'himself', 'most', 'whom', 'about', \"you're\", 'have', \"isn't\", 'being', 'again', 'will', \"weren't\", 'be', 'can', 'both', 'all', 'don', 'further', \"you'll\", 'because', 'any', 'no', 'above', 'from', 'over', \"wasn't\", 'been', 'but', 'didn', 'how', 'shan', 'theirs', 'do', 'its', \"she's\", 'needn', 'm', 'having', \"won't\", \"wouldn't\", 'other', 'aren', 'yourselves', 'yourself', 'into', \"hadn't\", 'here', 'you', 'myself', 'or', 'between', 'below', 'isn', 'a', 'mustn', 'to', 'off', 'did', 'we', \"you'd\", \"mightn't\", 'has', 'she', 'ours', 'won', 'on', 'under', 'me', 'which', 'am', \"it's\", 'are', 'his', 'themselves', 'than', 'now', 'such', 'out', \"don't\", 'your', 'does', 'then', 'before', 'those', 're', 'y', 'not', 's', \"shouldn't\", 'too', 'hadn', 'o', 'with', \"you've\", 'had', 'few', 'what', 'why', 'of', 'after', 'ma', 't', 'ourselves', 'their', 'nor', 'ain', 'it', 'shouldn', \"shan't\", 'more', 'hers', 'wouldn', \"aren't\", \"hasn't\", 'doing', 'that', 'weren', 'against', 'is', 'yours', 'same', 'wasn', 'as', 'down', \"should've\", 'couldn', 'there', 'him', 'when', 'hasn', 'them', 'her'}\n"
          ]
        }
      ],
      "source": [
        "stop=set(stopwords.words('english'))\n",
        "print(stop)\n",
        "\n",
        "def remove_stopwords(text, is_lower_case=False):\n",
        "  tokens = tokenizer.tokenize(text)\n",
        "  tokens = [token.strip() for token in tokens]\n",
        "  if is_lower_case:\n",
        "    filtered_tokens = [token for token in tokens if token not in stopword_list]\n",
        "  else:\n",
        "    filtered_tokens = [token for token in tokens if token.lower() not in stopword_list]\n",
        "  filtered_text= ' '.join(filtered_tokens)\n",
        "  return filtered_text\n",
        "imdb_data['review'] = imdb_data['review'].apply(remove_stopwords)\n",
        "\n"
      ]
    },
    {
      "cell_type": "code",
      "execution_count": 13,
      "metadata": {
        "colab": {
          "base_uri": "https://localhost:8080/",
          "height": 244
        },
        "id": "2lG3c8dzWI62",
        "outputId": "6536af8f-2d67-4362-ce9c-19959fc5e79a"
      },
      "outputs": [],
      "source": [
        "# cv=CountVectorizer(min_df=0,max_df=1,binary=False,ngram_range=(1,2))\n",
        "# cv_reviews_train=cv.fit_transform(train_reviews)\n",
        "# cv_reviews_test=cv.transform(test_reviews)\n",
        "# print('BOW_cv_train: ', cv_reviews_train.shape)\n",
        "# print('BOW_cv_test:', cv_reviews_test.shape)\n",
        "# all_ngrams = cv.get_feature_names()\n",
        "# print(all_ngrams)\n",
        "# num_ngrams = min(50, len(all_ngrams))"
      ]
    },
    {
      "cell_type": "code",
      "execution_count": 14,
      "metadata": {
        "colab": {
          "base_uri": "https://localhost:8080/"
        },
        "id": "ckZqoyRbA6wL",
        "outputId": "0b539c71-439d-4499-926e-ea728787b203"
      },
      "outputs": [],
      "source": [
        "# #Tfidf vectorizer\n",
        "# tv=TfidfVectorizer(min_df=0,max_df=1,use_idf=True,ngram_range=(1,2))\n",
        "# #transformed train reviews\n",
        "# tv_reviews_train=tv.fit_transform(train_reviews)\n",
        "# #transformed test reviews\n",
        "# tv_reviews_test=tv.transform(test_reviews)\n",
        "# print('Tfidf_train:',tv_reviews_train.shape)\n",
        "# print('Tfidf_test:',tv_reviews_test.shape)\n",
        "\n"
      ]
    },
    {
      "cell_type": "code",
      "execution_count": 15,
      "metadata": {},
      "outputs": [
        {
          "name": "stderr",
          "output_type": "stream",
          "text": [
            "/Users/josiah/opt/anaconda3/envs/DL/lib/python3.8/site-packages/sklearn/feature_extraction/text.py:1796: UserWarning: Only (<class 'numpy.float64'>, <class 'numpy.float32'>, <class 'numpy.float16'>) 'dtype' should be used. int32 'dtype' will be converted to np.float64.\n",
            "  warnings.warn(\"Only {} 'dtype' should be used. {} 'dtype' will \"\n",
            "/Users/josiah/opt/anaconda3/envs/DL/lib/python3.8/site-packages/sklearn/feature_extraction/text.py:1796: UserWarning: Only (<class 'numpy.float64'>, <class 'numpy.float32'>, <class 'numpy.float16'>) 'dtype' should be used. int32 'dtype' will be converted to np.float64.\n",
            "  warnings.warn(\"Only {} 'dtype' should be used. {} 'dtype' will \"\n"
          ]
        }
      ],
      "source": [
        "\n",
        "\n",
        "from sklearn.feature_extraction.text import TfidfVectorizer\n",
        "from sklearn.feature_selection import SelectKBest\n",
        "from sklearn.feature_selection import f_classif\n",
        "NGRAM_RANGE = (1, 2)\n",
        "TOP_K = 20000\n",
        "TOKEN_MODE = 'word'\n",
        "MIN_DOC_FREQ = 2\n",
        "\n",
        "\n",
        "def select_best(transformed_texts,labels):\n",
        "    selector = SelectKBest(f_classif, k=min(TOP_K, transformed_texts.shape[1]))\n",
        "    selector.fit(transformed_texts, labels)\n",
        "    transformed_texts = selector.transform(transformed_texts).astype('float32')\n",
        "    return transformed_texts\n",
        "def ngram_vectorize(texts, labels,vectorizor_type):\n",
        "    \n",
        "    kwargs = {\n",
        "        'ngram_range' : NGRAM_RANGE,\n",
        "        'dtype' : 'int32',\n",
        "        'strip_accents' : 'unicode',\n",
        "        'decode_error' : 'replace',\n",
        "        'analyzer' : TOKEN_MODE,\n",
        "        'min_df' : MIN_DOC_FREQ,\n",
        "        # 'stop_words': 'english'\n",
        "    }\n",
        "    # Learn Vocab from train texts and vectorize train and val sets\n",
        "    \n",
        "    tfidf_vectorizer = TfidfVectorizer(**kwargs)\n",
        "    tfidf_transformed_texts = tfidf_vectorizer.fit_transform(texts)\n",
        "    cv_vectorizer = CountVectorizer(**kwargs)\n",
        "    cv_transformed_text=cv_vectorizer.fit_transform(texts)\n",
        "    if vectorizor_type == 'tfidf':\n",
        "        return select_best(tfidf_transformed_texts,labels)\n",
        "    elif vectorizor_type == 'count':\n",
        "        return select_best(cv_transformed_text,labels)\n",
        "    \n",
        "    # Select best k features, with feature importance measured by f_classif\n",
        "    # Set k as 20000 or (if number of ngrams is less) number of ngrams   \n",
        "    \n",
        "   \n",
        "    \n",
        "# Vectorize the data\n",
        "\n",
        "\n",
        "\n",
        "tv_reviews = ngram_vectorize(imdb_data['review'],imdb_data['sentiment'],'tfidf')\n",
        "cv_reviews = ngram_vectorize(imdb_data['review'],imdb_data['sentiment'],'count')\n"
      ]
    },
    {
      "cell_type": "code",
      "execution_count": 16,
      "metadata": {},
      "outputs": [
        {
          "data": {
            "text/plain": [
              "(50000, 181432)"
            ]
          },
          "execution_count": 16,
          "metadata": {},
          "output_type": "execute_result"
        }
      ],
      "source": [
        "tfidf = TfidfVectorizer()\n",
        "tr_texts = tfidf.fit_transform(imdb_data['review'])\n",
        "tr_texts.shape"
      ]
    },
    {
      "cell_type": "markdown",
      "metadata": {},
      "source": [
        "Decide which vectorizer we are going to use..."
      ]
    },
    {
      "cell_type": "markdown",
      "metadata": {},
      "source": []
    },
    {
      "cell_type": "markdown",
      "metadata": {},
      "source": [
        "Split both of cv and tv reviews"
      ]
    },
    {
      "cell_type": "code",
      "execution_count": 17,
      "metadata": {},
      "outputs": [],
      "source": [
        "\n",
        "from sklearn.model_selection import train_test_split\n",
        "\n",
        "cv_reviews = cv_reviews.toarray()\n",
        "input_shape = cv_reviews.shape[1:]\n",
        "\n",
        "tv_reviews = tv_reviews.toarray()\n",
        "input_shape = tv_reviews.shape[1:]\n",
        "\n",
        "y = (np.array(imdb_data['sentiment']))\n",
        "#\n"
      ]
    },
    {
      "cell_type": "code",
      "execution_count": 18,
      "metadata": {},
      "outputs": [
        {
          "name": "stdout",
          "output_type": "stream",
          "text": [
            "shape of X_train (40000, 20000)\n"
          ]
        },
        {
          "data": {
            "text/plain": [
              "(40000, 20000)"
            ]
          },
          "execution_count": 18,
          "metadata": {},
          "output_type": "execute_result"
        }
      ],
      "source": [
        "cv_reviews_train, cv_reviews_test, cv_y_train, cv_y_test = train_test_split(cv_reviews, y, test_size=0.2, random_state=77)\n",
        "tv_reviews_train, tv_reviews_test, tv_y_train, tv_y_test = train_test_split(tv_reviews,y, test_size=0.2, random_state=88)\n",
        "\n",
        "print(\"shape of X_train\", cv_reviews_train.shape)\n",
        "\n",
        "cv_reviews_train.shape"
      ]
    },
    {
      "cell_type": "code",
      "execution_count": 19,
      "metadata": {
        "id": "vwYcbd9HAD8m"
      },
      "outputs": [],
      "source": [
        "\n",
        "loss_function = 'binary_crossentropy'\n",
        "optimizer = tf.keras.optimizers.Adam(\n",
        "    learning_rate=0.001\n",
        ")\n",
        "\n",
        "addition_metrics = ['accuracy']\n",
        "number_of_epochs=100\n",
        "verbosity_mode =True\n",
        "validation_split = 0.2\n",
        "#add a callback function to speed up the process \n",
        "callbacks = [tf.keras.callbacks.EarlyStopping(monitor='val_loss', patience=5)]\n"
      ]
    },
    {
      "cell_type": "markdown",
      "metadata": {
        "id": "JyjYU6Kop6JY"
      },
      "source": []
    },
    {
      "cell_type": "markdown",
      "metadata": {
        "id": "lfEAGfyWmBAg"
      },
      "source": [
        "Deep Learning Model: Keras. The input data are transformed tokens insteaed of the original words"
      ]
    },
    {
      "cell_type": "code",
      "execution_count": 20,
      "metadata": {
        "colab": {
          "base_uri": "https://localhost:8080/",
          "height": 244
        },
        "id": "cAJVVQgTmABf",
        "outputId": "3a84d699-ded2-4ea1-ff1f-7d5657a26616"
      },
      "outputs": [
        {
          "name": "stdout",
          "output_type": "stream",
          "text": [
            "(50000,)\n",
            "Model: \"sequential\"\n",
            "_________________________________________________________________\n",
            "Layer (type)                 Output Shape              Param #   \n",
            "=================================================================\n",
            "dropout (Dropout)            (None, 20000)             0         \n",
            "_________________________________________________________________\n",
            "dense (Dense)                (None, 64)                1280064   \n",
            "_________________________________________________________________\n",
            "dropout_1 (Dropout)          (None, 64)                0         \n",
            "_________________________________________________________________\n",
            "dense_1 (Dense)              (None, 1)                 65        \n",
            "=================================================================\n",
            "Total params: 1,280,129\n",
            "Trainable params: 1,280,129\n",
            "Non-trainable params: 0\n",
            "_________________________________________________________________\n"
          ]
        }
      ],
      "source": [
        "# print(\"type of cv_revie\",type(cv_reviews_train))\n",
        "\n",
        "\n",
        "model = keras.Sequential()\n",
        "print(y.shape)\n",
        "model.add(layers.Dropout(rate=0.2, input_shape=input_shape))\n",
        "model.add(layers.Dense(units=64, activation='relu'))\n",
        "model.add(layers.Dropout(0.2))\n",
        "model.add(layers.Dense(1, activation='sigmoid'))\n",
        "model.compile(optimizer=optimizer, loss=loss_function, metrics=addition_metrics)\n",
        "model.summary()\n",
        "\n",
        "\n",
        "# print(f'Test results - Loss: {test_results[0]} - Accuracy:{100*test_results[1]}')"
      ]
    },
    {
      "cell_type": "markdown",
      "metadata": {
        "id": "GfyTmqy6AeiD"
      },
      "source": [
        "Logistic Regression: Bag of words and Term Frequency-Inverse document Frequency\n"
      ]
    },
    {
      "cell_type": "code",
      "execution_count": 21,
      "metadata": {},
      "outputs": [],
      "source": [
        "def plot_history(history):\n",
        "    accuracy = history.history['accuracy']\n",
        "    val_accuracy = history.history['val_accuracy']\n",
        "    loss = history.history['loss']\n",
        "    val_loss = history.history['val_loss']\n",
        "    \n",
        "    epochs = range(1,len(accuracy) + 1)\n",
        "    \n",
        "    # Plot accuracy  \n",
        "    plt.figure(1)\n",
        "    plt.plot(epochs, accuracy, 'b', label='Training accuracy')\n",
        "    plt.plot(epochs, val_accuracy, 'g', label='Validation accuracy')\n",
        "    plt.title('Training and validation accuracy')\n",
        "    plt.xlabel('Epochs')\n",
        "    plt.ylabel('Accuracy')\n",
        "    plt.legend()\n",
        "    \n",
        "    # Plot loss\n",
        "    plt.figure(2)\n",
        "    plt.plot(epochs, loss, 'b', label='Training loss')\n",
        "    plt.plot(epochs, val_loss, 'g', label='Validation loss')\n",
        "    plt.title('Training and validation loss')\n",
        "    plt.xlabel('Epochs')\n",
        "    plt.ylabel('Loss')\n",
        "    plt.legend()\n",
        "    plt.show()\n",
        "\n"
      ]
    },
    {
      "cell_type": "code",
      "execution_count": 22,
      "metadata": {},
      "outputs": [
        {
          "name": "stdout",
          "output_type": "stream",
          "text": [
            "Epoch 1/100\n",
            "250/250 [==============================] - 4s 15ms/step - loss: 0.4040 - accuracy: 0.8289 - val_loss: 0.2449 - val_accuracy: 0.9057\n",
            "Epoch 2/100\n",
            "250/250 [==============================] - 3s 11ms/step - loss: 0.1945 - accuracy: 0.9272 - val_loss: 0.2354 - val_accuracy: 0.9066\n",
            "Epoch 3/100\n",
            "250/250 [==============================] - 3s 11ms/step - loss: 0.1442 - accuracy: 0.9452 - val_loss: 0.2327 - val_accuracy: 0.9084\n",
            "Epoch 4/100\n",
            "250/250 [==============================] - 3s 10ms/step - loss: 0.1187 - accuracy: 0.9558 - val_loss: 0.2423 - val_accuracy: 0.9128\n",
            "Epoch 5/100\n",
            "250/250 [==============================] - 3s 10ms/step - loss: 0.0932 - accuracy: 0.9640 - val_loss: 0.2466 - val_accuracy: 0.9131\n",
            "Epoch 6/100\n",
            "250/250 [==============================] - 3s 10ms/step - loss: 0.0784 - accuracy: 0.9717 - val_loss: 0.2516 - val_accuracy: 0.9116\n",
            "Epoch 7/100\n",
            "250/250 [==============================] - 3s 10ms/step - loss: 0.0761 - accuracy: 0.9734 - val_loss: 0.2556 - val_accuracy: 0.9139\n",
            "Epoch 8/100\n",
            "250/250 [==============================] - 3s 10ms/step - loss: 0.0586 - accuracy: 0.9797 - val_loss: 0.2653 - val_accuracy: 0.9119\n",
            "[0.23818767070770264, 0.9236000180244446]\n"
          ]
        }
      ],
      "source": [
        "cv_history = model.fit(cv_reviews_train, cv_y_train,epochs=number_of_epochs, verbose=verbosity_mode,batch_size=128,validation_split=0.2,callbacks=callbacks)\n",
        "cv_test_results = model.evaluate(cv_reviews_test, cv_y_test, verbose=False)\n",
        "print(cv_test_results)\n",
        "\n",
        "# Let's plot training and validation accuracy as well as loss.\n",
        "\n"
      ]
    },
    {
      "cell_type": "code",
      "execution_count": 23,
      "metadata": {},
      "outputs": [
        {
          "name": "stdout",
          "output_type": "stream",
          "text": [
            "[0.9057499766349792, 0.906624972820282, 0.9083750247955322, 0.9127500057220459, 0.9131249785423279, 0.9116250276565552, 0.9138749837875366, 0.9118750095367432]\n"
          ]
        },
        {
          "data": {
            "image/png": "[encoded data removed]",
            "text/plain": [
              "<Figure size 432x288 with 1 Axes>"
            ]
          },
          "metadata": {
            "needs_background": "light"
          },
          "output_type": "display_data"
        },
        {
          "data": {
            "image/png": "[encoded data removed]",
            "text/plain": [
              "<Figure size 432x288 with 1 Axes>"
            ]
          },
          "metadata": {
            "needs_background": "light"
          },
          "output_type": "display_data"
        }
      ],
      "source": [
        "print(cv_history.history['val_accuracy'])\n",
        "plot_history(cv_history)"
      ]
    },
    {
      "cell_type": "code",
      "execution_count": 24,
      "metadata": {},
      "outputs": [
        {
          "name": "stdout",
          "output_type": "stream",
          "text": [
            "Epoch 1/100\n",
            "250/250 [==============================] - 4s 14ms/step - loss: 0.4053 - accuracy: 0.8131 - val_loss: 0.2952 - val_accuracy: 0.8825\n",
            "Epoch 2/100\n",
            "250/250 [==============================] - 3s 10ms/step - loss: 0.2747 - accuracy: 0.8873 - val_loss: 0.2533 - val_accuracy: 0.8991\n",
            "Epoch 3/100\n",
            "250/250 [==============================] - 3s 10ms/step - loss: 0.2325 - accuracy: 0.9066 - val_loss: 0.2347 - val_accuracy: 0.9064\n",
            "Epoch 4/100\n",
            "250/250 [==============================] - 3s 10ms/step - loss: 0.2067 - accuracy: 0.9191 - val_loss: 0.2254 - val_accuracy: 0.9091\n",
            "Epoch 5/100\n",
            "250/250 [==============================] - 2s 10ms/step - loss: 0.1862 - accuracy: 0.9282 - val_loss: 0.2174 - val_accuracy: 0.9120\n",
            "Epoch 6/100\n",
            "250/250 [==============================] - 3s 10ms/step - loss: 0.1659 - accuracy: 0.9363 - val_loss: 0.2137 - val_accuracy: 0.9145\n",
            "Epoch 7/100\n",
            "250/250 [==============================] - 2s 10ms/step - loss: 0.1533 - accuracy: 0.9405 - val_loss: 0.2121 - val_accuracy: 0.9133\n",
            "Epoch 8/100\n",
            "250/250 [==============================] - 2s 10ms/step - loss: 0.1413 - accuracy: 0.9466 - val_loss: 0.2120 - val_accuracy: 0.9159\n",
            "Epoch 9/100\n",
            "250/250 [==============================] - 3s 11ms/step - loss: 0.1297 - accuracy: 0.9512 - val_loss: 0.2111 - val_accuracy: 0.9144\n",
            "Epoch 10/100\n",
            "250/250 [==============================] - 3s 11ms/step - loss: 0.1213 - accuracy: 0.9551 - val_loss: 0.2115 - val_accuracy: 0.9147\n",
            "Epoch 11/100\n",
            "250/250 [==============================] - 3s 10ms/step - loss: 0.1122 - accuracy: 0.9578 - val_loss: 0.2151 - val_accuracy: 0.9165\n",
            "Epoch 12/100\n",
            "250/250 [==============================] - 3s 10ms/step - loss: 0.1028 - accuracy: 0.9604 - val_loss: 0.2157 - val_accuracy: 0.9165\n",
            "Epoch 13/100\n",
            "250/250 [==============================] - 3s 10ms/step - loss: 0.0943 - accuracy: 0.9641 - val_loss: 0.2193 - val_accuracy: 0.9153\n",
            "Epoch 14/100\n",
            "250/250 [==============================] - 3s 11ms/step - loss: 0.0859 - accuracy: 0.9689 - val_loss: 0.2227 - val_accuracy: 0.9171\n",
            "[0.21845175325870514, 0.9150000214576721]\n"
          ]
        }
      ],
      "source": [
        "tv_history = model.fit(tv_reviews_train, tv_y_train,epochs=number_of_epochs, verbose=verbosity_mode,batch_size=128,validation_split=0.2,callbacks=callbacks)\n",
        "\n",
        "tv_test_results = model.evaluate(tv_reviews_test, tv_y_test, verbose=False)\n",
        "print(tv_test_results)\n"
      ]
    },
    {
      "cell_type": "code",
      "execution_count": 25,
      "metadata": {},
      "outputs": [
        {
          "data": {
            "image/png": "[encoded data removed]",
            "text/plain": [
              "<Figure size 432x288 with 1 Axes>"
            ]
          },
          "metadata": {
            "needs_background": "light"
          },
          "output_type": "display_data"
        },
        {
          "data": {
            "image/png": "[encoded data removed]",
            "text/plain": [
              "<Figure size 432x288 with 1 Axes>"
            ]
          },
          "metadata": {
            "needs_background": "light"
          },
          "output_type": "display_data"
        }
      ],
      "source": [
        "\n",
        "plot_history(tv_history)"
      ]
    },
    {
      "cell_type": "code",
      "execution_count": 26,
      "metadata": {
        "id": "fvtf9hz_uIRT"
      },
      "outputs": [],
      "source": [
        "# lr = LogisticRegression(penalty='l2',max_iter=200,n_jobs=-1, verbose=1, random_state=77)\n",
        "# logistic_bow= lr.fit(cv_reviews_train, cv_y_train)\n",
        "# print(logistic_bow)\n",
        "# logistic_tfidf=lr.fit(tv_reviews_train,tv_y_train)\n",
        "# print(logistic_tfidf)\n",
        "\n"
      ]
    },
    {
      "cell_type": "markdown",
      "metadata": {
        "id": "5-i12wbFAg5E"
      },
      "source": []
    },
    {
      "cell_type": "code",
      "execution_count": 27,
      "metadata": {
        "id": "GhK0LBBXull8"
      },
      "outputs": [],
      "source": [
        "# logistic_bow_pred = lr.predict(cv_reviews_test)\n",
        "# print(logistic_bow_pred)\n",
        "# logistic_tfidf_pred=lr.predict(tv_reviews_test)\n",
        "# print(logistic_tfidf_pred)\n"
      ]
    },
    {
      "cell_type": "code",
      "execution_count": 28,
      "metadata": {
        "id": "xaRT6FF6u1FY"
      },
      "outputs": [],
      "source": [
        "# lr_bow_report=classification_report(cv_y_test,logistic_bow_pred, target_names=['Positive','Negative'])\n",
        "# print(\"Count\")\n",
        "# print(lr_bow_report)\n",
        "# lr_tfidf_report=classification_report(tv_y_test, logistic_tfidf_pred, target_names=['Positive','Negative'])\n",
        "# print(\"tfidf\")\n",
        "# print(lr_tfidf_report)"
      ]
    },
    {
      "cell_type": "code",
      "execution_count": 29,
      "metadata": {
        "id": "xQ78lekVvRKX"
      },
      "outputs": [],
      "source": [
        "# #cv\n",
        "# lr_bow_report=classification_report(cv_y_test,logistic_bow_pred, target_names=['Positive','Negative'])\n",
        "# print(lr_bow_report)\n",
        "# #tfidf\n",
        "# lr_tfidf_report=classification_report(tv_y_test, logistic_tfidf_pred, target_names=['Positive', 'Negative'])\n",
        "# print(lr_tfidf_report)\n"
      ]
    },
    {
      "cell_type": "code",
      "execution_count": 30,
      "metadata": {
        "id": "fHb8_1M7wLQu"
      },
      "outputs": [
        {
          "name": "stdout",
          "output_type": "stream",
          "text": [
            "SGDClassifier(random_state=77)\n",
            "SGDClassifier(random_state=77)\n"
          ]
        }
      ],
      "source": [
        "svm=SGDClassifier(loss='hinge', max_iter=1000, random_state=77)\n",
        "svm_bow=svm.fit(cv_reviews_train, cv_y_train)\n",
        "print(svm_bow)\n",
        "svm_tfidf=svm.fit(tv_reviews_train, tv_y_train)\n",
        "print(svm_tfidf)\n",
        "\n",
        "\n",
        "\n"
      ]
    },
    {
      "cell_type": "code",
      "execution_count": 31,
      "metadata": {
        "id": "BlCsgL2kkkmx"
      },
      "outputs": [
        {
          "name": "stdout",
          "output_type": "stream",
          "text": [
            "[0 1 0 ... 1 1 0]\n",
            "[1 0 0 ... 1 0 0]\n",
            "              precision    recall  f1-score   support\n",
            "\n",
            "    Positive       0.57      0.56      0.56      5051\n",
            "    Negative       0.56      0.56      0.56      4949\n",
            "\n",
            "    accuracy                           0.56     10000\n",
            "   macro avg       0.56      0.56      0.56     10000\n",
            "weighted avg       0.56      0.56      0.56     10000\n",
            "\n",
            "              precision    recall  f1-score   support\n",
            "\n",
            "    Positive       0.90      0.89      0.89      4973\n",
            "    Negative       0.89      0.90      0.90      5027\n",
            "\n",
            "    accuracy                           0.90     10000\n",
            "   macro avg       0.90      0.90      0.90     10000\n",
            "weighted avg       0.90      0.90      0.90     10000\n",
            "\n"
          ]
        }
      ],
      "source": [
        "\n",
        "svm_bow_predict=svm.predict(cv_reviews_test)\n",
        "print(svm_bow_predict)\n",
        "#Predicting the model for tfidf features\n",
        "svm_tfidf_predict=svm.predict(tv_reviews_test)\n",
        "print(svm_tfidf_predict)\n",
        "\n",
        "svm_bow_report=classification_report(cv_y_test, svm_bow_predict, target_names=['Positive','Negative'])\n",
        "print(svm_bow_report)\n",
        "svm_tfidf_report=classification_report(tv_y_test, svm_tfidf_predict,target_names=['Positive','Negative'])\n",
        "print(svm_tfidf_report)\n"
      ]
    },
    {
      "cell_type": "code",
      "execution_count": 32,
      "metadata": {
        "id": "DCtH6SIFklAh"
      },
      "outputs": [
        {
          "name": "stdout",
          "output_type": "stream",
          "text": [
            "svm_bow_score : 0.5619\n",
            "svm_tfidf_score : 0.8951\n"
          ]
        }
      ],
      "source": [
        "svm_bow_score=accuracy_score(cv_y_test,svm_bow_predict)\n",
        "print(\"svm_bow_score :\",svm_bow_score)\n",
        "#Accuracy score for tfidf features\n",
        "svm_tfidf_score=accuracy_score(tv_y_test,svm_tfidf_predict)\n",
        "print(\"svm_tfidf_score :\",svm_tfidf_score)"
      ]
    },
    {
      "cell_type": "code",
      "execution_count": 33,
      "metadata": {
        "id": "LYxexEHbrGGp"
      },
      "outputs": [
        {
          "name": "stdout",
          "output_type": "stream",
          "text": [
            "              precision    recall  f1-score   support\n",
            "\n",
            "    Positive       0.57      0.56      0.56      5051\n",
            "    Negative       0.56      0.56      0.56      4949\n",
            "\n",
            "    accuracy                           0.56     10000\n",
            "   macro avg       0.56      0.56      0.56     10000\n",
            "weighted avg       0.56      0.56      0.56     10000\n",
            "\n",
            "              precision    recall  f1-score   support\n",
            "\n",
            "    Positive       0.90      0.89      0.89      4973\n",
            "    Negative       0.89      0.90      0.90      5027\n",
            "\n",
            "    accuracy                           0.90     10000\n",
            "   macro avg       0.90      0.90      0.90     10000\n",
            "weighted avg       0.90      0.90      0.90     10000\n",
            "\n"
          ]
        }
      ],
      "source": [
        "#Classification report for bag of words \n",
        "svm_bow_report=classification_report(cv_y_test,svm_bow_predict,target_names=['Positive','Negative'])\n",
        "print(svm_bow_report)\n",
        "#Classification report for tfidf features\n",
        "svm_tfidf_report=classification_report(tv_y_test,svm_tfidf_predict,target_names=['Positive','Negative'])\n",
        "print(svm_tfidf_report)"
      ]
    },
    {
      "cell_type": "markdown",
      "metadata": {
        "id": "VmRtgPZKrZBX"
      },
      "source": [
        "Multinomial Naive Bayes"
      ]
    },
    {
      "cell_type": "code",
      "execution_count": 34,
      "metadata": {
        "id": "52qh29pYrW8B"
      },
      "outputs": [
        {
          "name": "stdout",
          "output_type": "stream",
          "text": [
            "MultinomialNB()\n",
            "MultinomialNB()\n"
          ]
        }
      ],
      "source": [
        "#training the model\n",
        "mnb=MultinomialNB()\n",
        "#fitting the svm for bag of words\n",
        "mnb_bow=mnb.fit(cv_reviews_train,cv_y_train)\n",
        "print(mnb_bow)\n",
        "#fitting the svm for tfidf features\n",
        "mnb_tfidf=mnb.fit(tv_reviews_train,tv_y_train)\n",
        "print(mnb_tfidf)"
      ]
    },
    {
      "cell_type": "code",
      "execution_count": 35,
      "metadata": {
        "id": "iUmmB2Cfrh2h"
      },
      "outputs": [
        {
          "name": "stdout",
          "output_type": "stream",
          "text": [
            "[1 1 0 ... 1 1 0]\n",
            "[1 0 0 ... 1 1 0]\n"
          ]
        }
      ],
      "source": [
        "#Predicting the model for bag of words\n",
        "mnb_bow_predict=mnb.predict(cv_reviews_test)\n",
        "print(mnb_bow_predict)\n",
        "#Predicting the model for tfidf features\n",
        "mnb_tfidf_predict=mnb.predict(tv_reviews_test)\n",
        "print(mnb_tfidf_predict)"
      ]
    },
    {
      "cell_type": "code",
      "execution_count": 36,
      "metadata": {
        "id": "AC553DMLrmd2"
      },
      "outputs": [
        {
          "name": "stdout",
          "output_type": "stream",
          "text": [
            "              precision    recall  f1-score   support\n",
            "\n",
            "    Positive       0.58      0.55      0.57      5051\n",
            "    Negative       0.56      0.59      0.58      4949\n",
            "\n",
            "    accuracy                           0.57     10000\n",
            "   macro avg       0.57      0.57      0.57     10000\n",
            "weighted avg       0.57      0.57      0.57     10000\n",
            "\n",
            "              precision    recall  f1-score   support\n",
            "\n",
            "    Positive       0.91      0.89      0.90      4973\n",
            "    Negative       0.89      0.92      0.91      5027\n",
            "\n",
            "    accuracy                           0.90     10000\n",
            "   macro avg       0.90      0.90      0.90     10000\n",
            "weighted avg       0.90      0.90      0.90     10000\n",
            "\n"
          ]
        }
      ],
      "source": [
        "mnb_bow_report=classification_report(cv_y_test,mnb_bow_predict,target_names=['Positive','Negative'])\n",
        "print(mnb_bow_report)\n",
        "#Classification report for tfidf features\n",
        "mnb_tfidf_report=classification_report(tv_y_test,mnb_tfidf_predict,target_names=['Positive','Negative'])\n",
        "print(mnb_tfidf_report)"
      ]
    },
    {
      "cell_type": "markdown",
      "metadata": {
        "id": "msI_-Iimr0wc"
      },
      "source": [
        "Use Word Cloud to show the most popular positive and negative reviews"
      ]
    },
    {
      "cell_type": "code",
      "execution_count": 37,
      "metadata": {},
      "outputs": [
        {
          "name": "stdout",
          "output_type": "stream",
          "text": [
            "mnb_bow_score : 0.5619\n",
            "mnb_tfidf_score : 0.8951\n"
          ]
        }
      ],
      "source": [
        "mnb_bow_score=accuracy_score(cv_y_test,mnb_bow_predict)\n",
        "print(\"mnb_bow_score :\",svm_bow_score)\n",
        "#Accuracy score for tfidf features\n",
        "mnb_tfidf_score=accuracy_score(tv_y_test,mnb_tfidf_predict)\n",
        "print(\"mnb_tfidf_score :\",svm_tfidf_score)"
      ]
    },
    {
      "cell_type": "code",
      "execution_count": 38,
      "metadata": {
        "id": "zVGvoskYr6Py"
      },
      "outputs": [
        {
          "ename": "TypeError",
          "evalue": "cannot use a string pattern on a bytes-like object",
          "output_type": "error",
          "traceback": [
            "\u001b[0;31m---------------------------------------------------------------------------\u001b[0m",
            "\u001b[0;31mTypeError\u001b[0m                                 Traceback (most recent call last)",
            "Input \u001b[0;32mIn [38]\u001b[0m, in \u001b[0;36m<cell line: 4>\u001b[0;34m()\u001b[0m\n\u001b[1;32m      2\u001b[0m positive_text\u001b[38;5;241m=\u001b[39mcv_reviews_train[\u001b[38;5;241m1\u001b[39m]\n\u001b[1;32m      3\u001b[0m WC\u001b[38;5;241m=\u001b[39mWordCloud(width\u001b[38;5;241m=\u001b[39m\u001b[38;5;241m1000\u001b[39m,height\u001b[38;5;241m=\u001b[39m\u001b[38;5;241m500\u001b[39m,max_words\u001b[38;5;241m=\u001b[39m\u001b[38;5;241m500\u001b[39m,min_font_size\u001b[38;5;241m=\u001b[39m\u001b[38;5;241m5\u001b[39m)\n\u001b[0;32m----> 4\u001b[0m positive_words\u001b[38;5;241m=\u001b[39m\u001b[43mWC\u001b[49m\u001b[38;5;241;43m.\u001b[39;49m\u001b[43mgenerate\u001b[49m\u001b[43m(\u001b[49m\u001b[43mpositive_text\u001b[49m\u001b[43m)\u001b[49m\n\u001b[1;32m      5\u001b[0m plt\u001b[38;5;241m.\u001b[39mimshow(positive_words,interpolation\u001b[38;5;241m=\u001b[39m\u001b[38;5;124m'\u001b[39m\u001b[38;5;124mbilinear\u001b[39m\u001b[38;5;124m'\u001b[39m)\n\u001b[1;32m      6\u001b[0m plt\u001b[38;5;241m.\u001b[39mshow\n",
            "File \u001b[0;32m~/opt/anaconda3/envs/DL/lib/python3.8/site-packages/wordcloud/wordcloud.py:632\u001b[0m, in \u001b[0;36mWordCloud.generate\u001b[0;34m(self, text)\u001b[0m\n\u001b[1;32m    617\u001b[0m \u001b[38;5;28;01mdef\u001b[39;00m \u001b[38;5;21mgenerate\u001b[39m(\u001b[38;5;28mself\u001b[39m, text):\n\u001b[1;32m    618\u001b[0m     \u001b[38;5;124;03m\"\"\"Generate wordcloud from text.\u001b[39;00m\n\u001b[1;32m    619\u001b[0m \n\u001b[1;32m    620\u001b[0m \u001b[38;5;124;03m    The input \"text\" is expected to be a natural text. If you pass a sorted\u001b[39;00m\n\u001b[0;32m   (...)\u001b[0m\n\u001b[1;32m    630\u001b[0m \u001b[38;5;124;03m    self\u001b[39;00m\n\u001b[1;32m    631\u001b[0m \u001b[38;5;124;03m    \"\"\"\u001b[39;00m\n\u001b[0;32m--> 632\u001b[0m     \u001b[38;5;28;01mreturn\u001b[39;00m \u001b[38;5;28;43mself\u001b[39;49m\u001b[38;5;241;43m.\u001b[39;49m\u001b[43mgenerate_from_text\u001b[49m\u001b[43m(\u001b[49m\u001b[43mtext\u001b[49m\u001b[43m)\u001b[49m\n",
            "File \u001b[0;32m~/opt/anaconda3/envs/DL/lib/python3.8/site-packages/wordcloud/wordcloud.py:613\u001b[0m, in \u001b[0;36mWordCloud.generate_from_text\u001b[0;34m(self, text)\u001b[0m\n\u001b[1;32m    596\u001b[0m \u001b[38;5;28;01mdef\u001b[39;00m \u001b[38;5;21mgenerate_from_text\u001b[39m(\u001b[38;5;28mself\u001b[39m, text):\n\u001b[1;32m    597\u001b[0m     \u001b[38;5;124;03m\"\"\"Generate wordcloud from text.\u001b[39;00m\n\u001b[1;32m    598\u001b[0m \n\u001b[1;32m    599\u001b[0m \u001b[38;5;124;03m    The input \"text\" is expected to be a natural text. If you pass a sorted\u001b[39;00m\n\u001b[0;32m   (...)\u001b[0m\n\u001b[1;32m    611\u001b[0m \u001b[38;5;124;03m    self\u001b[39;00m\n\u001b[1;32m    612\u001b[0m \u001b[38;5;124;03m    \"\"\"\u001b[39;00m\n\u001b[0;32m--> 613\u001b[0m     words \u001b[38;5;241m=\u001b[39m \u001b[38;5;28;43mself\u001b[39;49m\u001b[38;5;241;43m.\u001b[39;49m\u001b[43mprocess_text\u001b[49m\u001b[43m(\u001b[49m\u001b[43mtext\u001b[49m\u001b[43m)\u001b[49m\n\u001b[1;32m    614\u001b[0m     \u001b[38;5;28mself\u001b[39m\u001b[38;5;241m.\u001b[39mgenerate_from_frequencies(words)\n\u001b[1;32m    615\u001b[0m     \u001b[38;5;28;01mreturn\u001b[39;00m \u001b[38;5;28mself\u001b[39m\n",
            "File \u001b[0;32m~/opt/anaconda3/envs/DL/lib/python3.8/site-packages/wordcloud/wordcloud.py:575\u001b[0m, in \u001b[0;36mWordCloud.process_text\u001b[0;34m(self, text)\u001b[0m\n\u001b[1;32m    572\u001b[0m pattern \u001b[38;5;241m=\u001b[39m \u001b[38;5;124mr\u001b[39m\u001b[38;5;124m\"\u001b[39m\u001b[38;5;124m\\\u001b[39m\u001b[38;5;124mw[\u001b[39m\u001b[38;5;124m\\\u001b[39m\u001b[38;5;124mw\u001b[39m\u001b[38;5;124m'\u001b[39m\u001b[38;5;124m]*\u001b[39m\u001b[38;5;124m\"\u001b[39m \u001b[38;5;28;01mif\u001b[39;00m \u001b[38;5;28mself\u001b[39m\u001b[38;5;241m.\u001b[39mmin_word_length \u001b[38;5;241m<\u001b[39m\u001b[38;5;241m=\u001b[39m \u001b[38;5;241m1\u001b[39m \u001b[38;5;28;01melse\u001b[39;00m \u001b[38;5;124mr\u001b[39m\u001b[38;5;124m\"\u001b[39m\u001b[38;5;124m\\\u001b[39m\u001b[38;5;124mw[\u001b[39m\u001b[38;5;124m\\\u001b[39m\u001b[38;5;124mw\u001b[39m\u001b[38;5;124m'\u001b[39m\u001b[38;5;124m]+\u001b[39m\u001b[38;5;124m\"\u001b[39m\n\u001b[1;32m    573\u001b[0m regexp \u001b[38;5;241m=\u001b[39m \u001b[38;5;28mself\u001b[39m\u001b[38;5;241m.\u001b[39mregexp \u001b[38;5;28;01mif\u001b[39;00m \u001b[38;5;28mself\u001b[39m\u001b[38;5;241m.\u001b[39mregexp \u001b[38;5;129;01mis\u001b[39;00m \u001b[38;5;129;01mnot\u001b[39;00m \u001b[38;5;28;01mNone\u001b[39;00m \u001b[38;5;28;01melse\u001b[39;00m pattern\n\u001b[0;32m--> 575\u001b[0m words \u001b[38;5;241m=\u001b[39m \u001b[43mre\u001b[49m\u001b[38;5;241;43m.\u001b[39;49m\u001b[43mfindall\u001b[49m\u001b[43m(\u001b[49m\u001b[43mregexp\u001b[49m\u001b[43m,\u001b[49m\u001b[43m \u001b[49m\u001b[43mtext\u001b[49m\u001b[43m,\u001b[49m\u001b[43m \u001b[49m\u001b[43mflags\u001b[49m\u001b[43m)\u001b[49m\n\u001b[1;32m    576\u001b[0m \u001b[38;5;66;03m# remove 's\u001b[39;00m\n\u001b[1;32m    577\u001b[0m words \u001b[38;5;241m=\u001b[39m [word[:\u001b[38;5;241m-\u001b[39m\u001b[38;5;241m2\u001b[39m] \u001b[38;5;28;01mif\u001b[39;00m word\u001b[38;5;241m.\u001b[39mlower()\u001b[38;5;241m.\u001b[39mendswith(\u001b[38;5;124m\"\u001b[39m\u001b[38;5;124m'\u001b[39m\u001b[38;5;124ms\u001b[39m\u001b[38;5;124m\"\u001b[39m) \u001b[38;5;28;01melse\u001b[39;00m word\n\u001b[1;32m    578\u001b[0m          \u001b[38;5;28;01mfor\u001b[39;00m word \u001b[38;5;129;01min\u001b[39;00m words]\n",
            "File \u001b[0;32m~/opt/anaconda3/envs/DL/lib/python3.8/re.py:241\u001b[0m, in \u001b[0;36mfindall\u001b[0;34m(pattern, string, flags)\u001b[0m\n\u001b[1;32m    233\u001b[0m \u001b[38;5;28;01mdef\u001b[39;00m \u001b[38;5;21mfindall\u001b[39m(pattern, string, flags\u001b[38;5;241m=\u001b[39m\u001b[38;5;241m0\u001b[39m):\n\u001b[1;32m    234\u001b[0m     \u001b[38;5;124;03m\"\"\"Return a list of all non-overlapping matches in the string.\u001b[39;00m\n\u001b[1;32m    235\u001b[0m \n\u001b[1;32m    236\u001b[0m \u001b[38;5;124;03m    If one or more capturing groups are present in the pattern, return\u001b[39;00m\n\u001b[0;32m   (...)\u001b[0m\n\u001b[1;32m    239\u001b[0m \n\u001b[1;32m    240\u001b[0m \u001b[38;5;124;03m    Empty matches are included in the result.\"\"\"\u001b[39;00m\n\u001b[0;32m--> 241\u001b[0m     \u001b[38;5;28;01mreturn\u001b[39;00m \u001b[43m_compile\u001b[49m\u001b[43m(\u001b[49m\u001b[43mpattern\u001b[49m\u001b[43m,\u001b[49m\u001b[43m \u001b[49m\u001b[43mflags\u001b[49m\u001b[43m)\u001b[49m\u001b[38;5;241;43m.\u001b[39;49m\u001b[43mfindall\u001b[49m\u001b[43m(\u001b[49m\u001b[43mstring\u001b[49m\u001b[43m)\u001b[49m\n",
            "\u001b[0;31mTypeError\u001b[0m: cannot use a string pattern on a bytes-like object"
          ]
        },
        {
          "data": {
            "text/plain": [
              "<Figure size 720x720 with 0 Axes>"
            ]
          },
          "metadata": {},
          "output_type": "display_data"
        }
      ],
      "source": [
        "plt.figure(figsize=(10,10))\n",
        "positive_text=cv_reviews_train[1]\n",
        "WC=WordCloud(width=1000,height=500,max_words=500,min_font_size=5)\n",
        "positive_words=WC.generate(positive_text)\n",
        "plt.imshow(positive_words,interpolation='bilinear')\n",
        "plt.show\n"
      ]
    },
    {
      "cell_type": "code",
      "execution_count": null,
      "metadata": {
        "id": "iSLNJC5msDeK"
      },
      "outputs": [],
      "source": [
        "plt.figure(figsize=(10,10))\n",
        "negative_text=cv_reviews_train[8]\n",
        "WC=WordCloud(width=1000,height=500,max_words=500,min_font_size=5)\n",
        "negative_words=WC.generate(negative_text)\n",
        "plt.imshow(negative_words,interpolation='bilinear')\n",
        "plt.show"
      ]
    }
  ],
  "metadata": {
    "accelerator": "GPU",
    "colab": {
      "authorship_tag": "ABX9TyPdfTV1gCn3s9a7WeIB0gKk",
      "collapsed_sections": [],
      "include_colab_link": true,
      "mount_file_id": "1Dvl_KLh-ck7JbHIzkKOan6B14FxBNogg",
      "name": "Imdb_bert.ipynb",
      "provenance": []
    },
    "kernelspec": {
      "display_name": "Python 3",
      "name": "python3"
    },
    "language_info": {
      "codemirror_mode": {
        "name": "ipython",
        "version": 3
      },
      "file_extension": ".py",
      "mimetype": "text/x-python",
      "name": "python",
      "nbconvert_exporter": "python",
      "pygments_lexer": "ipython3",
      "version": "3.8.5"
    }
  },
  "nbformat": 4,
  "nbformat_minor": 0
}
